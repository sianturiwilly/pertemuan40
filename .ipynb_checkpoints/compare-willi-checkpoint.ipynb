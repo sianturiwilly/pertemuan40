{
 "cells": [
  {
   "cell_type": "code",
   "execution_count": 37,
   "id": "a4b14cd6",
   "metadata": {},
   "outputs": [],
   "source": [
    "# Iris Species\n",
    "# 27 Mei 2022\n",
    "# Willi Sianturi\n",
    "\n",
    "# Import library yang dibutuhkan\n",
    "import pandas as pd\n",
    "from sklearn import linear_model\n",
    "from sklearn import datasets\n",
    "from sklearn.neighbors import KNeighborsClassifier\n",
    "from sklearn.naive_bayes import GaussianNB\n",
    "from sklearn import svm\n",
    "from sklearn.model_selection import train_test_split"
   ]
  },
  {
   "cell_type": "code",
   "execution_count": 38,
   "id": "eaf3baf0",
   "metadata": {},
   "outputs": [
    {
     "data": {
      "text/html": [
       "<div>\n",
       "<style scoped>\n",
       "    .dataframe tbody tr th:only-of-type {\n",
       "        vertical-align: middle;\n",
       "    }\n",
       "\n",
       "    .dataframe tbody tr th {\n",
       "        vertical-align: top;\n",
       "    }\n",
       "\n",
       "    .dataframe thead th {\n",
       "        text-align: right;\n",
       "    }\n",
       "</style>\n",
       "<table border=\"1\" class=\"dataframe\">\n",
       "  <thead>\n",
       "    <tr style=\"text-align: right;\">\n",
       "      <th></th>\n",
       "      <th>sl</th>\n",
       "      <th>sw</th>\n",
       "      <th>pl</th>\n",
       "      <th>pw</th>\n",
       "      <th>species</th>\n",
       "    </tr>\n",
       "  </thead>\n",
       "  <tbody>\n",
       "    <tr>\n",
       "      <th>0</th>\n",
       "      <td>5.1</td>\n",
       "      <td>3.5</td>\n",
       "      <td>1.4</td>\n",
       "      <td>0.2</td>\n",
       "      <td>0</td>\n",
       "    </tr>\n",
       "    <tr>\n",
       "      <th>1</th>\n",
       "      <td>4.9</td>\n",
       "      <td>3.0</td>\n",
       "      <td>1.4</td>\n",
       "      <td>0.2</td>\n",
       "      <td>0</td>\n",
       "    </tr>\n",
       "    <tr>\n",
       "      <th>2</th>\n",
       "      <td>4.7</td>\n",
       "      <td>3.2</td>\n",
       "      <td>1.3</td>\n",
       "      <td>0.2</td>\n",
       "      <td>0</td>\n",
       "    </tr>\n",
       "    <tr>\n",
       "      <th>3</th>\n",
       "      <td>4.6</td>\n",
       "      <td>3.1</td>\n",
       "      <td>1.5</td>\n",
       "      <td>0.2</td>\n",
       "      <td>0</td>\n",
       "    </tr>\n",
       "    <tr>\n",
       "      <th>4</th>\n",
       "      <td>5.0</td>\n",
       "      <td>3.6</td>\n",
       "      <td>1.4</td>\n",
       "      <td>0.2</td>\n",
       "      <td>0</td>\n",
       "    </tr>\n",
       "  </tbody>\n",
       "</table>\n",
       "</div>"
      ],
      "text/plain": [
       "    sl   sw   pl   pw  species\n",
       "0  5.1  3.5  1.4  0.2        0\n",
       "1  4.9  3.0  1.4  0.2        0\n",
       "2  4.7  3.2  1.3  0.2        0\n",
       "3  4.6  3.1  1.5  0.2        0\n",
       "4  5.0  3.6  1.4  0.2        0"
      ]
     },
     "execution_count": 38,
     "metadata": {},
     "output_type": "execute_result"
    }
   ],
   "source": [
    "iris = datasets.load_iris()\n",
    "data = pd.DataFrame({\n",
    "    \"sl\": iris.data[:, 0],\n",
    "    \"sw\": iris.data[:, 1],\n",
    "    \"pl\": iris.data[:, 2],\n",
    "    \"pw\": iris.data[:, 3],\n",
    "    \"species\": iris.target\n",
    "})\n",
    "\n",
    "data.head()"
   ]
  },
  {
   "cell_type": "code",
   "execution_count": 39,
   "id": "47761650",
   "metadata": {},
   "outputs": [],
   "source": [
    "X = data[[\"sl\", \"sw\", \"pl\", \"pw\"]]\n",
    "y = data.species\n",
    "\n",
    "X_train, X_test, y_train, y_test = train_test_split(X, y, test_size=.3, random_state=15)"
   ]
  },
  {
   "cell_type": "code",
   "execution_count": 40,
   "id": "37b7176d",
   "metadata": {},
   "outputs": [
    {
     "data": {
      "text/plain": [
       "dict_items([('KKN', <class 'sklearn.neighbors._classification.KNeighborsClassifier'>), ('SVM', <class 'sklearn.svm._classes.SVC'>), ('LINEAR', <class 'sklearn.linear_model._base.LinearRegression'>), ('NAIVE', <class 'sklearn.naive_bayes.GaussianNB'>)])"
      ]
     },
     "execution_count": 40,
     "metadata": {},
     "output_type": "execute_result"
    }
   ],
   "source": [
    "algorithms = {\n",
    "    \"KKN\": KNeighborsClassifier,\n",
    "    \"SVM\": svm.SVC,\n",
    "    \"LINEAR\": linear_model.LinearRegression,\n",
    "    \"NAIVE\": GaussianNB,\n",
    "}\n",
    "\n",
    "algorithms.items()"
   ]
  },
  {
   "cell_type": "code",
   "execution_count": 41,
   "id": "a4ce44e9",
   "metadata": {},
   "outputs": [],
   "source": [
    "scores = {\n",
    "    \"KKN\": 0,\n",
    "    \"SVM\": 0,\n",
    "    \"LINEAR\": 0,\n",
    "    \"NAIVE\": 0,\n",
    "}"
   ]
  },
  {
   "cell_type": "code",
   "execution_count": 42,
   "id": "c1a1c2ad",
   "metadata": {},
   "outputs": [
    {
     "data": {
      "text/plain": [
       "{'KKN': 0.9777777777777777,\n",
       " 'SVM': 1.0,\n",
       " 'LINEAR': 0.9376948060478254,\n",
       " 'NAIVE': 1.0}"
      ]
     },
     "execution_count": 42,
     "metadata": {},
     "output_type": "execute_result"
    }
   ],
   "source": [
    "for name, algoritma in algorithms.items():\n",
    "    algo = algoritma()\n",
    "    algo.fit(X_train, y_train)\n",
    "    scores[name] = algo.score(X_test, y_test)\n",
    "\n",
    "scores"
   ]
  },
  {
   "cell_type": "code",
   "execution_count": 43,
   "id": "c05390df",
   "metadata": {},
   "outputs": [
    {
     "data": {
      "text/plain": [
       "<AxesSubplot:ylabel='Score of Algo'>"
      ]
     },
     "execution_count": 43,
     "metadata": {},
     "output_type": "execute_result"
    },
    {
     "data": {
      "image/png": "[encoded data removed]",
      "text/plain": [
       "<Figure size 432x288 with 1 Axes>"
      ]
     },
     "metadata": {
      "needs_background": "light"
     },
     "output_type": "display_data"
    }
   ],
   "source": [
    "df = pd.DataFrame({\n",
    "    \"Algoritma\": scores.keys(), \"Scores\": scores.values()\n",
    "})\n",
    "\n",
    "df.plot(\n",
    "    x=\"Algoritma\",\n",
    "    y=\"Scores\",\n",
    "    kind=\"barh\",\n",
    "    xlabel=\"Score of Algo\",\n",
    "    color=[\"black\", \"red\", \"green\", \"blue\"]\n",
    ")"
   ]
  }
 ],
 "metadata": {
  "kernelspec": {
   "display_name": "Python 3 (ipykernel)",
   "language": "python",
   "name": "python3"
  },
  "language_info": {
   "codemirror_mode": {
    "name": "ipython",
    "version": 3
   },
   "file_extension": ".py",
   "mimetype": "text/x-python",
   "name": "python",
   "nbconvert_exporter": "python",
   "pygments_lexer": "ipython3",
   "version": "3.10.3"
  }
 },
 "nbformat": 4,
 "nbformat_minor": 5
}
