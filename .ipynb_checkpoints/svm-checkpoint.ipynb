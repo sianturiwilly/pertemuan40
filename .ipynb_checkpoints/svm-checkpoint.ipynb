{
 "cells": [
  {
   "cell_type": "code",
   "execution_count": 10,
   "id": "0b3d7286",
   "metadata": {},
   "outputs": [],
   "source": [
    "# Iris Species\n",
    "# Willi\n",
    "# 27 Mei 2022\n",
    "# Pertemuan ke-40\n",
    "# SVM (Support Vector Machine)\n",
    "\n",
    "# Import library\n",
    "import pandas as pd\n",
    "from sklearn import datasets\n",
    "from sklearn import metrics\n",
    "from sklearn import preprocessing\n",
    "from sklearn import svm\n",
    "from sklearn.model_selection import train_test_split"
   ]
  },
  {
   "cell_type": "code",
   "execution_count": 11,
   "id": "96ff187e",
   "metadata": {},
   "outputs": [
    {
     "data": {
      "text/plain": [
       "(150, 5)"
      ]
     },
     "execution_count": 11,
     "metadata": {},
     "output_type": "execute_result"
    }
   ],
   "source": [
    "iris = datasets.load_iris()\n",
    "data = pd.DataFrame({\n",
    "    \"sl\": iris.data[:, 0],\n",
    "    \"sw\": iris.data[:, 1],\n",
    "    \"pl\": iris.data[:, 2],\n",
    "    \"pw\": iris.data[:, 3],\n",
    "    \"species\": iris.target\n",
    "})\n",
    "\n",
    "data.head()\n",
    "data.shape"
   ]
  },
  {
   "cell_type": "code",
   "execution_count": 12,
   "id": "a2bae9aa",
   "metadata": {},
   "outputs": [],
   "source": [
    "X = data[[\"sl\", \"sw\", \"pl\", \"pw\"]]\n",
    "y = data.species\n",
    "\n",
    "X_train, X_test, y_train, y_test = train_test_split(X, y, test_size=.2)"
   ]
  },
  {
   "cell_type": "code",
   "execution_count": 13,
   "id": "cd69023a",
   "metadata": {},
   "outputs": [
    {
     "name": "stdout",
     "output_type": "stream",
     "text": [
      "      sl   sw   pl   pw\n",
      "71   6.1  2.8  4.0  1.3\n",
      "65   6.7  3.1  4.4  1.4\n",
      "140  6.7  3.1  5.6  2.4\n",
      "103  6.3  2.9  5.6  1.8\n",
      "94   5.6  2.7  4.2  1.3\n",
      "..   ...  ...  ...  ...\n",
      "72   6.3  2.5  4.9  1.5\n",
      "83   6.0  2.7  5.1  1.6\n",
      "36   5.5  3.5  1.3  0.2\n",
      "84   5.4  3.0  4.5  1.5\n",
      "28   5.2  3.4  1.4  0.2\n",
      "\n",
      "[120 rows x 4 columns]\n"
     ]
    }
   ],
   "source": [
    "print(X_train)"
   ]
  },
  {
   "cell_type": "code",
   "execution_count": 14,
   "id": "bbf1a80c",
   "metadata": {},
   "outputs": [
    {
     "name": "stdout",
     "output_type": "stream",
     "text": [
      "      sl   sw   pl   pw\n",
      "1    4.9  3.0  1.4  0.2\n",
      "53   5.5  2.3  4.0  1.3\n",
      "131  7.9  3.8  6.4  2.0\n",
      "35   5.0  3.2  1.2  0.2\n",
      "58   6.6  2.9  4.6  1.3\n",
      "105  7.6  3.0  6.6  2.1\n",
      "90   5.5  2.6  4.4  1.2\n",
      "120  6.9  3.2  5.7  2.3\n",
      "20   5.4  3.4  1.7  0.2\n",
      "145  6.7  3.0  5.2  2.3\n",
      "116  6.5  3.0  5.5  1.8\n",
      "89   5.5  2.5  4.0  1.3\n",
      "134  6.1  2.6  5.6  1.4\n",
      "108  6.7  2.5  5.8  1.8\n",
      "133  6.3  2.8  5.1  1.5\n",
      "142  5.8  2.7  5.1  1.9\n",
      "123  6.3  2.7  4.9  1.8\n",
      "107  7.3  2.9  6.3  1.8\n",
      "56   6.3  3.3  4.7  1.6\n",
      "132  6.4  2.8  5.6  2.2\n",
      "59   5.2  2.7  3.9  1.4\n",
      "38   4.4  3.0  1.3  0.2\n",
      "118  7.7  2.6  6.9  2.3\n",
      "82   5.8  2.7  3.9  1.2\n",
      "29   4.7  3.2  1.6  0.2\n",
      "147  6.5  3.0  5.2  2.0\n",
      "50   7.0  3.2  4.7  1.4\n",
      "41   4.5  2.3  1.3  0.3\n",
      "110  6.5  3.2  5.1  2.0\n",
      "14   5.8  4.0  1.2  0.2\n"
     ]
    }
   ],
   "source": [
    "print(X_test)"
   ]
  },
  {
   "cell_type": "code",
   "execution_count": 15,
   "id": "fede6911",
   "metadata": {},
   "outputs": [],
   "source": [
    "model = svm.SVC()"
   ]
  },
  {
   "cell_type": "code",
   "execution_count": 16,
   "id": "a666dc72",
   "metadata": {},
   "outputs": [
    {
     "data": {
      "text/plain": [
       "SVC()"
      ]
     },
     "execution_count": 16,
     "metadata": {},
     "output_type": "execute_result"
    }
   ],
   "source": [
    "model.fit(X_train, y_train)"
   ]
  },
  {
   "cell_type": "code",
   "execution_count": 17,
   "id": "34633e07",
   "metadata": {},
   "outputs": [
    {
     "data": {
      "text/plain": [
       "array([0, 1, 2, 0, 1, 2, 1, 2, 0, 2, 2, 1, 2, 2, 1, 2, 2, 2, 1, 2, 1, 0,\n",
       "       2, 1, 0, 2, 1, 0, 2, 0])"
      ]
     },
     "execution_count": 17,
     "metadata": {},
     "output_type": "execute_result"
    }
   ],
   "source": [
    "y_predict = model.predict(X_test)\n",
    "y_predict"
   ]
  },
  {
   "cell_type": "code",
   "execution_count": 18,
   "id": "34a619d0",
   "metadata": {},
   "outputs": [
    {
     "data": {
      "text/plain": [
       "96.66666666666667"
      ]
     },
     "execution_count": 18,
     "metadata": {},
     "output_type": "execute_result"
    }
   ],
   "source": [
    "metrics.accuracy_score(y_test, y_predict) * 100"
   ]
  }
 ],
 "metadata": {
  "kernelspec": {
   "display_name": "Python 3 (ipykernel)",
   "language": "python",
   "name": "python3"
  },
  "language_info": {
   "codemirror_mode": {
    "name": "ipython",
    "version": 3
   },
   "file_extension": ".py",
   "mimetype": "text/x-python",
   "name": "python",
   "nbconvert_exporter": "python",
   "pygments_lexer": "ipython3",
   "version": "3.10.3"
  }
 },
 "nbformat": 4,
 "nbformat_minor": 5
}
